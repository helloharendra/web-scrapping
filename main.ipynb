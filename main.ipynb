{
 "cells": [
  {
   "cell_type": "code",
   "execution_count": 74,
   "metadata": {},
   "outputs": [],
   "source": [
    "import requests\n",
    "from bs4 import BeautifulSoup "
   ]
  },
  {
   "cell_type": "code",
   "execution_count": 75,
   "metadata": {},
   "outputs": [],
   "source": [
    "url=\"https://tanyafinance.com/harendraprajapati/\"\n",
    "r=requests.get(url)\n",
    "htmlContent=r.content #if we want html content "
   ]
  },
  {
   "cell_type": "code",
   "execution_count": 76,
   "metadata": {},
   "outputs": [],
   "source": [
    "#print(htmlContent)"
   ]
  },
  {
   "cell_type": "code",
   "execution_count": 77,
   "metadata": {},
   "outputs": [
    {
     "name": "stdout",
     "output_type": "stream",
     "text": [
      "<bound method Tag.prettify of \n",
      "<!DOCTYPE html>\n",
      "\n",
      "<!-- Created By Harendra Prajapati -->\n",
      "<html lang=\"en\">\n",
      "<head>\n",
      "<meta charset=\"utf-8\"/>\n",
      "<meta content=\"width=device-width, initial-scale=1.0\" name=\"viewport\"/>\n",
      "<title></title>\n",
      "<link href=\"style.css\" rel=\"stylesheet\"/>\n",
      "<link href=\"style2.css\" rel=\"stylesheet\"/>\n",
      "<link href=\"https://cdnjs.cloudflare.com/ajax/libs/font-awesome/5.15.3/css/all.min.css\" rel=\"stylesheet\">\n",
      "<script src=\"https://code.jquery.com/jquery-3.5.1.min.js\"></script>\n",
      "<script src=\"https://cdnjs.cloudflare.com/ajax/libs/typed.js/2.0.11/typed.min.js\"></script>\n",
      "<script src=\"https://cdnjs.cloudflare.com/ajax/libs/waypoints/4.0.1/jquery.waypoints.min.js\"></script>\n",
      "<script src=\"https://cdnjs.cloudflare.com/ajax/libs/OwlCarousel2/2.3.4/owl.carousel.min.js\"></script>\n",
      "<link href=\"https://cdnjs.cloudflare.com/ajax/libs/OwlCarousel2/2.3.4/assets/owl.carousel.min.css\" rel=\"stylesheet\">\n",
      "<link href=\"loader.css\" rel=\"stylesheet\"/>\n",
      "</link></link></head>\n",
      "<body>\n",
      "<div id=\"preloader\"></div>\n",
      "<div class=\"scroll-up-btn\">\n",
      "<i class=\"fas fa-angle-uFscp\"></i>\n",
      "</div>\n",
      "<nav class=\"navbar\">\n",
      "<div class=\"max-width\">\n",
      "<div class=\"logo\"><a href=\"#\">Port<span>Folio</span></a></div>\n",
      "<ul class=\"menu\">\n",
      "<li><a class=\"menu-btn\" href=\"#home\">Home</a></li>\n",
      "<li><a class=\"menu-btn\" href=\"#about\">About</a></li>\n",
      "<li><a class=\"menu-btn\" href=\"#services\">Services</a></li>\n",
      "<li><a class=\"menu-btn\" href=\"#skills\">Skills</a></li>\n",
      "<li><a class=\"menu-btn\" href=\"#teams\">Teams</a></li>\n",
      "<li><a href=\"courses.html\">Courses</a></li>\n",
      "<li><a href=\"other.html\">Other</a></li>\n",
      "<li><a class=\"menu-btn\" href=\"https://formsubmit.co/el/luxewi\">Contact</a></li>\n",
      "</ul>\n",
      "<div class=\"menu-btn\">\n",
      "<i class=\"fas fa-bars\"></i>\n",
      "</div>\n",
      "</div>\n",
      "</nav>\n",
      "<!-- home section start -->\n",
      "<section class=\"home\" id=\"home\">\n",
      "<div class=\"max-width\">\n",
      "<div class=\"home-content\">\n",
      "<div class=\"text-1\">Hello,I am</div>\n",
      "<div class=\"text-2\">Harendra Prajapati</div>\n",
      "<div class=\"text-3\">And I'm a <span class=\"typing\"></span></div>\n",
      "<a href=\"videos/hireme.mp4\">Hire me</a>\n",
      "<button type=\"button\"></button>\n",
      "</div>\n",
      "</div>\n",
      "</section>\n",
      "<!-- about section start -->\n",
      "<section class=\"about\" id=\"about\">\n",
      "<div class=\"max-width\">\n",
      "<h2 class=\"title\">About me</h2>\n",
      "<div class=\"about-content\">\n",
      "<div class=\"column left\">\n",
      "<img alt=\"\" src=\"images/myprofile1.jpg\"/>\n",
      "</div>\n",
      "<div class=\"column right\">\n",
      "<div class=\"text\">I'm Harendra and I'm a <span class=\"typing-2\"></span></div>\n",
      "<p><tt style=\"font-size: 20;\">Hi everyone i am glad to tell you that i am MCA student,\n",
      "                        I have completed BCA in 2021.I am looking for a development role because of interested in coding. I have learnt C, C++, HTML, CSS,CORE JAVA, ADVANCE JAVA,JAVA SCRIPT\n",
      "                        PYTHON, MYSQL DATABASE AND BASIC COMMANDS OF UNIX &amp; LINUX and persuing\n",
      "                        to learn MACHINE LEARNING AND DEEP LEARNING. <br/><br/></tt></p>\n",
      "<a href=\"cv/harendraPrajapatiCv.pdf\">Download CV</a>\n",
      "</div>\n",
      "</div>\n",
      "</div>\n",
      "</section>\n",
      "<!-- services section start -->\n",
      "<section class=\"services\" id=\"services\">\n",
      "<div class=\"max-width\">\n",
      "<h2 class=\"title\">My services</h2>\n",
      "<div class=\"serv-content\">\n",
      "<div class=\"card\">\n",
      "<div class=\"box\">\n",
      "<i class=\"fas fa-paint-brush\"></i>\n",
      "<div class=\"text\">Web Design</div>\n",
      "<p>I and my Team provide a responsive and creative websites to user. </p>\n",
      "</div>\n",
      "</div>\n",
      "<div class=\"card\">\n",
      "<div class=\"box\">\n",
      "<i class=\"fas fa-chart-line\"></i>\n",
      "<div class=\"text\">Youtube</div>\n",
      "<p>Me and my team provide study materials on Youtube to student who want to learn coading. And also provide Youtube channels And customization.  .</p>\n",
      "</div>\n",
      "</div>\n",
      "<div class=\"card\">\n",
      "<div class=\"box\">\n",
      "<i class=\"fas fa-code\"></i>\n",
      "<div class=\"text\">Apps Design</div>\n",
      "<p>We also provide apps to user.</p>\n",
      "</div>\n",
      "</div>\n",
      "</div>\n",
      "</div>\n",
      "\n",
      "</section>\n",
      "<!-- skills section start -->\n",
      "<section class=\"skills\" id=\"skills\">\n",
      "<div class=\"max-width\">\n",
      "<h2 class=\"title\">My skills</h2>\n",
      "<div class=\"skills-content\">\n",
      "<div class=\"column left\">\n",
      "<div class=\"text\">My creative skills &amp; experiences.</div>\n",
      "<p><tt style=\"font-size: 20;\">Hi everyone i am glad to tell you that i am MCA student,\n",
      "                        I have completed BCA in 2021.I am looking for a development role because of interested in coding. I have learnt C, C++, HTML, CSS,CORE JAVA, ADVANCE JAVA,JAVA SCRIPT\n",
      "                        PYTHON, MYSQL DATABASE AND BASIC COMMANDS OF UNIX &amp; LINUX and persuing\n",
      "                        to learn MACHINE LEARNING AND DEEP LEARNING. <br/><br/></tt></p>\n",
      "<a href=\"#\">Read more</a>\n",
      "</div>\n",
      "<div class=\"column right\">\n",
      "<div class=\"bars\">\n",
      "<div class=\"info\">\n",
      "<span>HTML</span>\n",
      "<span>90%</span>\n",
      "</div>\n",
      "<div class=\"line html\"></div>\n",
      "</div>\n",
      "<div class=\"bars\">\n",
      "<div class=\"info\">\n",
      "<span>CSS</span>\n",
      "<span>60%</span>\n",
      "</div>\n",
      "<div class=\"line css\"></div>\n",
      "</div>\n",
      "<div class=\"bars\">\n",
      "<div class=\"info\">\n",
      "<span>JavaScript</span>\n",
      "<span>80%</span>\n",
      "</div>\n",
      "<div class=\"line js\"></div>\n",
      "</div>\n",
      "<div class=\"bars\">\n",
      "<div class=\"info\">\n",
      "<span>java</span>\n",
      "<span>80%</span>\n",
      "</div>\n",
      "<div class=\"line php\"></div>\n",
      "</div>\n",
      "<div class=\"bars\">\n",
      "<div class=\"info\">\n",
      "<span>MySQL</span>\n",
      "<span>70%</span>\n",
      "</div>\n",
      "<div class=\"line mysql\"></div>\n",
      "</div>\n",
      "</div>\n",
      "</div>\n",
      "</div>\n",
      "</section>\n",
      "<!-- teams section start -->\n",
      "<section class=\"teams\" id=\"teams\">\n",
      "<div class=\"max-width\">\n",
      "<h2 class=\"title\">My teams</h2>\n",
      "<div class=\"carousel owl-carousel\">\n",
      "<div class=\"card\">\n",
      "<div class=\"box\">\n",
      "<img alt=\"\" src=\"images/myprofile.jpg\"/>\n",
      "<div class=\"text\">Harendra Prajapati</div>\n",
      "<p>Java Developer</p>\n",
      "</div>\n",
      "</div>\n",
      "<div class=\"card\">\n",
      "<div class=\"box\">\n",
      "<img alt=\"\" src=\"images/team1.jpeg\"/>\n",
      "<div class=\"text\">Shubham Mishra</div>\n",
      "<p> Android App Developer</p>\n",
      "</div>\n",
      "</div>\n",
      "<div class=\"card\">\n",
      "<div class=\"box\">\n",
      "<img alt=\"\" src=\"images/rishabh.jpg\"/>\n",
      "<div class=\"text\">Rishabh Yadav</div>\n",
      "<p>python Developer </p>\n",
      "</div>\n",
      "</div>\n",
      "<div class=\"card\">\n",
      "<div class=\"box\">\n",
      "<img alt=\"\" src=\"images/myprofile.jpg\"/>\n",
      "<div class=\"text\">Harendra Prajapati</div>\n",
      "<p>HTML,CSS Developer</p>\n",
      "</div>\n",
      "</div>\n",
      "<div class=\"card\">\n",
      "<div class=\"box\">\n",
      "<img alt=\"\" src=\"images/team1.jpeg\"/>\n",
      "<div class=\"text\">Shubham Mishra</div>\n",
      "<p>HTML,CSS Developer</p>\n",
      "</div>\n",
      "</div>\n",
      "</div>\n",
      "</div>\n",
      "</section>\n",
      "<!-- contact section start -->\n",
      "<section class=\"contact\" id=\"contact\">\n",
      "<div class=\"max-width\">\n",
      "<h2 class=\"title\">Contact me</h2>\n",
      "<div class=\"contact-content\">\n",
      "<div class=\"column left\">\n",
      "<div class=\"text\">Get in Touch</div>\n",
      "<p align=\"center\" class=\"\">\n",
      "<img align=\"center\" height=\"80\" src=\"images/youtube1.gif\" width=\"120\"/>\n",
      "<a href=\"https://www.youtube.com/channel/UC5H_q2PTvvdid3TpGxcw1ZQ\">STUDY HUB TUTORIAL</a><br/> </p>\n",
      "<img align=\"center\" height=\"80\" src=\"images/linkedin.gif\" width=\"90\"/>\n",
      "<a \\n=\"\" href=\"https://in.linkedin.com/in/harendra-prajapati-0a1710185?trk=people-guest_people_search-card\">HARENDRA PRAJAPATI</a><br/>\n",
      "<img align=\"center\" height=\"80\" src=\"images/github.gif\" width=\"90\"/>\n",
      "<a \\n=\"\" href=\"https://github.com/harendraprajapati72\">Harendraprajapati72</a><br/><br/>\n",
      "<div class=\"icons\">\n",
      "<div class=\"row\">\n",
      "<i class=\"fas fa-user\"></i>\n",
      "<div class=\"info\">\n",
      "<div class=\"head\">Name</div>\n",
      "<div class=\"sub-title\">Harendra Prajapati</div>\n",
      "</div>\n",
      "</div>\n",
      "<div class=\"row\">\n",
      "<i class=\"fas fa-map-marker-alt\"></i>\n",
      "<div class=\"info\">\n",
      "<div class=\"head\">Address</div>\n",
      "<div class=\"sub-title\">Lucknow Uttar Pradesh</div>\n",
      "</div>\n",
      "</div>\n",
      "<div class=\"row\">\n",
      "<i class=\"fas fa-envelope\"></i>\n",
      "<div class=\"info\">\n",
      "<div class=\"head\">Email</div>\n",
      "<div class=\"sub-title\">tutorialstudyhub@gmail.com</div>\n",
      "</div>\n",
      "</div>\n",
      "</div>\n",
      "</div>\n",
      "<div class=\"column right\">\n",
      "<div class=\"text\">Message me</div>\n",
      "<form action=\"\" method=\"post\">\n",
      "<div class=\"fields\">\n",
      "<div class=\"field name\">\n",
      "<input name=\"name\" placeholder=\"Name\" required=\"\" type=\"text\"/>\n",
      "</div>\n",
      "<div class=\"field email\">\n",
      "<input name=\"email\" placeholder=\"Email\" required=\"\" type=\"email\"/>\n",
      "</div>\n",
      "</div>\n",
      "<div class=\"field\">\n",
      "<input name=\"subject\" placeholder=\"Subject\" required=\"\" type=\"text\"/>\n",
      "</div>\n",
      "<div class=\"field\">\n",
      "<input name=\"contact\" placeholder=\"Contact Number\" required=\"\" type=\"number\"/>\n",
      "</div>\n",
      "<div class=\"field textarea\">\n",
      "<textarea cols=\"30\" name=\"message\" placeholder=\"Message..\" required=\"\" rows=\"10\"></textarea>\n",
      "</div>\n",
      "<div class=\"button-area\">\n",
      "<button name=\"submit\" type=\"submit\">Send message</button>\n",
      "</div>\n",
      "</form>\n",
      "</div>\n",
      "</div>\n",
      "</div>\n",
      "</section>\n",
      "<!-- footer section start -->\n",
      "<footer>\n",
      "<span>Created By <a href=\"https://github.com/harendraprajapati72\">Harendra Prajapati</a> | <span class=\"far fa-copyright\"></span> 2021 All rights reserved.</span>\n",
      "</footer>\n",
      "<script src=\"script.js\"></script>\n",
      "<!-- loader start -->\n",
      "<script>\n",
      "    var loader= document.getElementById(\"preloader\");\n",
      "    window.addEventListener(\"load\",function(){\n",
      "        loader.style.display=\"none\";\n",
      "\n",
      "    })\n",
      " </script>\n",
      "<!-- loader end -->\n",
      "</body>\n",
      "</html>\n",
      ">\n"
     ]
    }
   ],
   "source": [
    "soup=BeautifulSoup(htmlContent,'html.parser')\n",
    "print(soup.prettify)"
   ]
  },
  {
   "cell_type": "code",
   "execution_count": 78,
   "metadata": {},
   "outputs": [
    {
     "name": "stdout",
     "output_type": "stream",
     "text": [
      "<title></title>\n"
     ]
    }
   ],
   "source": [
    "title=soup.title\n",
    "print(title)"
   ]
  },
  {
   "cell_type": "code",
   "execution_count": 79,
   "metadata": {},
   "outputs": [
    {
     "name": "stdout",
     "output_type": "stream",
     "text": [
      "<class 'bs4.BeautifulSoup'>\n"
     ]
    }
   ],
   "source": [
    "print(type(soup))"
   ]
  },
  {
   "cell_type": "code",
   "execution_count": 80,
   "metadata": {},
   "outputs": [
    {
     "name": "stdout",
     "output_type": "stream",
     "text": [
      "<class 'bs4.element.Tag'>\n"
     ]
    }
   ],
   "source": [
    "print(type(title))\n"
   ]
  },
  {
   "cell_type": "code",
   "execution_count": 81,
   "metadata": {},
   "outputs": [
    {
     "name": "stdout",
     "output_type": "stream",
     "text": [
      "<class 'NoneType'>\n"
     ]
    }
   ],
   "source": [
    "print(type(title.string))"
   ]
  },
  {
   "cell_type": "code",
   "execution_count": 82,
   "metadata": {},
   "outputs": [
    {
     "name": "stdout",
     "output_type": "stream",
     "text": [
      "[<p><tt style=\"font-size: 20;\">Hi everyone i am glad to tell you that i am MCA student,\n",
      "                        I have completed BCA in 2021.I am looking for a development role because of interested in coding. I have learnt C, C++, HTML, CSS,CORE JAVA, ADVANCE JAVA,JAVA SCRIPT\n",
      "                        PYTHON, MYSQL DATABASE AND BASIC COMMANDS OF UNIX &amp; LINUX and persuing\n",
      "                        to learn MACHINE LEARNING AND DEEP LEARNING. <br/><br/></tt></p>, <p>I and my Team provide a responsive and creative websites to user. </p>, <p>Me and my team provide study materials on Youtube to student who want to learn coading. And also provide Youtube channels And customization.  .</p>, <p>We also provide apps to user.</p>, <p><tt style=\"font-size: 20;\">Hi everyone i am glad to tell you that i am MCA student,\n",
      "                        I have completed BCA in 2021.I am looking for a development role because of interested in coding. I have learnt C, C++, HTML, CSS,CORE JAVA, ADVANCE JAVA,JAVA SCRIPT\n",
      "                        PYTHON, MYSQL DATABASE AND BASIC COMMANDS OF UNIX &amp; LINUX and persuing\n",
      "                        to learn MACHINE LEARNING AND DEEP LEARNING. <br/><br/></tt></p>, <p>Java Developer</p>, <p> Android App Developer</p>, <p>python Developer </p>, <p>HTML,CSS Developer</p>, <p>HTML,CSS Developer</p>, <p align=\"center\" class=\"\">\n",
      "<img align=\"center\" height=\"80\" src=\"images/youtube1.gif\" width=\"120\"/>\n",
      "<a href=\"https://www.youtube.com/channel/UC5H_q2PTvvdid3TpGxcw1ZQ\">STUDY HUB TUTORIAL</a><br/> </p>]\n"
     ]
    }
   ],
   "source": [
    "paras=soup.find_all('p')\n",
    "print(paras)"
   ]
  },
  {
   "cell_type": "code",
   "execution_count": 83,
   "metadata": {},
   "outputs": [
    {
     "name": "stdout",
     "output_type": "stream",
     "text": [
      "[<a href=\"#\">Port<span>Folio</span></a>, <a class=\"menu-btn\" href=\"#home\">Home</a>, <a class=\"menu-btn\" href=\"#about\">About</a>, <a class=\"menu-btn\" href=\"#services\">Services</a>, <a class=\"menu-btn\" href=\"#skills\">Skills</a>, <a class=\"menu-btn\" href=\"#teams\">Teams</a>, <a href=\"courses.html\">Courses</a>, <a href=\"other.html\">Other</a>, <a class=\"menu-btn\" href=\"https://formsubmit.co/el/luxewi\">Contact</a>, <a href=\"videos/hireme.mp4\">Hire me</a>, <a href=\"cv/harendraPrajapatiCv.pdf\">Download CV</a>, <a href=\"#\">Read more</a>, <a href=\"https://www.youtube.com/channel/UC5H_q2PTvvdid3TpGxcw1ZQ\">STUDY HUB TUTORIAL</a>, <a \\n=\"\" href=\"https://in.linkedin.com/in/harendra-prajapati-0a1710185?trk=people-guest_people_search-card\">HARENDRA PRAJAPATI</a>, <a \\n=\"\" href=\"https://github.com/harendraprajapati72\">Harendraprajapati72</a>, <a href=\"https://github.com/harendraprajapati72\">Harendra Prajapati</a>]\n"
     ]
    }
   ],
   "source": [
    "anchor=soup.find_all('a')\n",
    "print(anchor)"
   ]
  },
  {
   "cell_type": "code",
   "execution_count": 84,
   "metadata": {},
   "outputs": [
    {
     "name": "stdout",
     "output_type": "stream",
     "text": [
      "<p><tt style=\"font-size: 20;\">Hi everyone i am glad to tell you that i am MCA student,\n",
      "                        I have completed BCA in 2021.I am looking for a development role because of interested in coding. I have learnt C, C++, HTML, CSS,CORE JAVA, ADVANCE JAVA,JAVA SCRIPT\n",
      "                        PYTHON, MYSQL DATABASE AND BASIC COMMANDS OF UNIX &amp; LINUX and persuing\n",
      "                        to learn MACHINE LEARNING AND DEEP LEARNING. <br/><br/></tt></p>\n"
     ]
    }
   ],
   "source": [
    "print(soup.find('p'))"
   ]
  },
  {
   "cell_type": "code",
   "execution_count": 85,
   "metadata": {},
   "outputs": [
    {
     "name": "stdout",
     "output_type": "stream",
     "text": [
      "https://tanyafinance.com#home\n",
      "https://tanyafinance.com#about\n",
      "https://tanyafinance.com#services\n",
      "https://tanyafinance.com#skills\n",
      "https://tanyafinance.com#teams\n",
      "https://tanyafinance.comcourses.html\n",
      "https://tanyafinance.comother.html\n",
      "https://tanyafinance.comhttps://formsubmit.co/el/luxewi\n",
      "https://tanyafinance.comvideos/hireme.mp4\n",
      "https://tanyafinance.comcv/harendraPrajapatiCv.pdf\n",
      "https://tanyafinance.comhttps://www.youtube.com/channel/UC5H_q2PTvvdid3TpGxcw1ZQ\n",
      "https://tanyafinance.comhttps://in.linkedin.com/in/harendra-prajapati-0a1710185?trk=people-guest_people_search-card\n",
      "https://tanyafinance.comhttps://github.com/harendraprajapati72\n",
      "https://tanyafinance.comhttps://github.com/harendraprajapati72\n"
     ]
    }
   ],
   "source": [
    "anchors =soup.find_all('a')\n",
    "all_links=set()\n",
    "for link in anchors:\n",
    "    if(link.get('href')!='#'):\n",
    "        linkText=\"https://tanyafinance.com\"+link.get('href')\n",
    "        all_links.add(link)\n",
    "        print(linkText)"
   ]
  },
  {
   "cell_type": "code",
   "execution_count": 39,
   "metadata": {},
   "outputs": [
    {
     "ename": "TypeError",
     "evalue": "'NoneType' object is not callable",
     "output_type": "error",
     "traceback": [
      "\u001b[0;31m---------------------------------------------------------------------------\u001b[0m",
      "\u001b[0;31mTypeError\u001b[0m                                 Traceback (most recent call last)",
      "Cell \u001b[0;32mIn [39], line 1\u001b[0m\n\u001b[0;32m----> 1\u001b[0m \u001b[39mprint\u001b[39m(soup\u001b[39m.\u001b[39;49mget_lnks())\n",
      "\u001b[0;31mTypeError\u001b[0m: 'NoneType' object is not callable"
     ]
    }
   ],
   "source": [
    "# print(soup.get_lnks()) "
   ]
  },
  {
   "cell_type": "code",
   "execution_count": 90,
   "metadata": {},
   "outputs": [
    {
     "ename": "AttributeError",
     "evalue": "'NoneType' object has no attribute 'parent'",
     "output_type": "error",
     "traceback": [
      "\u001b[0;31m---------------------------------------------------------------------------\u001b[0m",
      "\u001b[0;31mAttributeError\u001b[0m                            Traceback (most recent call last)",
      "Cell \u001b[0;32mIn [90], line 2\u001b[0m\n\u001b[1;32m      1\u001b[0m \u001b[39m# navbarSupportedContent=soup.find(id='navsupportedcontent')\u001b[39;00m\n\u001b[0;32m----> 2\u001b[0m \u001b[39mprint\u001b[39m(navbarSupportedContent\u001b[39m.\u001b[39;49mparent)\n",
      "\u001b[0;31mAttributeError\u001b[0m: 'NoneType' object has no attribute 'parent'"
     ]
    }
   ],
   "source": [
    "navbarSupportedContent=soup.find(id='navsupportedcontent')\n",
    "print(navbarSupportedContent.parent)"
   ]
  }
 ],
 "metadata": {
  "kernelspec": {
   "display_name": "Python 3.10.7 64-bit",
   "language": "python",
   "name": "python3"
  },
  "language_info": {
   "codemirror_mode": {
    "name": "ipython",
    "version": 3
   },
   "file_extension": ".py",
   "mimetype": "text/x-python",
   "name": "python",
   "nbconvert_exporter": "python",
   "pygments_lexer": "ipython3",
   "version": "3.10.7"
  },
  "orig_nbformat": 4,
  "vscode": {
   "interpreter": {
    "hash": "aee8b7b246df8f9039afb4144a1f6fd8d2ca17a180786b69acc140d282b71a49"
   }
  }
 },
 "nbformat": 4,
 "nbformat_minor": 2
}
